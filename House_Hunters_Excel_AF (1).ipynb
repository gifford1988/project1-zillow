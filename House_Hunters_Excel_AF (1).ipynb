{
 "cells": [
  {
   "cell_type": "code",
   "execution_count": 2,
   "metadata": {},
   "outputs": [],
   "source": [
    "# Import Dependencies\n",
    "import pandas as pd\n",
    "import numpy as np\n",
    "import matplotlib.patches as mpatches\n",
    "import matplotlib.pyplot as plt\n",
    "import seaborn as sns"
   ]
  },
  {
   "cell_type": "code",
   "execution_count": 3,
   "metadata": {},
   "outputs": [
    {
     "name": "stdout",
     "output_type": "stream",
     "text": [
      "716\n"
     ]
    },
    {
     "data": {
      "text/html": [
       "<div>\n",
       "<style scoped>\n",
       "    .dataframe tbody tr th:only-of-type {\n",
       "        vertical-align: middle;\n",
       "    }\n",
       "\n",
       "    .dataframe tbody tr th {\n",
       "        vertical-align: top;\n",
       "    }\n",
       "\n",
       "    .dataframe thead th {\n",
       "        text-align: right;\n",
       "    }\n",
       "</style>\n",
       "<table border=\"1\" class=\"dataframe\">\n",
       "  <thead>\n",
       "    <tr style=\"text-align: right;\">\n",
       "      <th></th>\n",
       "      <th>Address</th>\n",
       "      <th>Zip Code</th>\n",
       "      <th>Asking Price</th>\n",
       "      <th>Zestimate</th>\n",
       "      <th>Lot Size (in acres)</th>\n",
       "      <th>Square Feet</th>\n",
       "      <th>Bedrooms</th>\n",
       "      <th>Bathrooms</th>\n",
       "      <th>Year Built</th>\n",
       "      <th>Home Type</th>\n",
       "    </tr>\n",
       "  </thead>\n",
       "  <tbody>\n",
       "    <tr>\n",
       "      <th>0</th>\n",
       "      <td>3085 Eastbrook Ter SW, Atlanta, GA</td>\n",
       "      <td>30331</td>\n",
       "      <td>349900.0</td>\n",
       "      <td>NaN</td>\n",
       "      <td>10018.0</td>\n",
       "      <td>3636.0</td>\n",
       "      <td>6</td>\n",
       "      <td>4.0</td>\n",
       "      <td>2008.0</td>\n",
       "      <td>SingleFamily</td>\n",
       "    </tr>\n",
       "    <tr>\n",
       "      <th>1</th>\n",
       "      <td>5524 Stone Cove Dr SW, Atlanta, GA</td>\n",
       "      <td>30331</td>\n",
       "      <td>317000.0</td>\n",
       "      <td>312078.0</td>\n",
       "      <td>14374.0</td>\n",
       "      <td>5002.0</td>\n",
       "      <td>6</td>\n",
       "      <td>4.0</td>\n",
       "      <td>2007.0</td>\n",
       "      <td>SingleFamily</td>\n",
       "    </tr>\n",
       "    <tr>\n",
       "      <th>2</th>\n",
       "      <td>45 Ivan Allen Jr Blvd NW UNIT 1901, Atlanta, GA</td>\n",
       "      <td>30308</td>\n",
       "      <td>545000.0</td>\n",
       "      <td>533631.0</td>\n",
       "      <td>1773.0</td>\n",
       "      <td>1774.0</td>\n",
       "      <td>2</td>\n",
       "      <td>3.0</td>\n",
       "      <td>2010.0</td>\n",
       "      <td>Condominium</td>\n",
       "    </tr>\n",
       "    <tr>\n",
       "      <th>3</th>\n",
       "      <td>3300 Ferncliff Ln, Atlanta, GA</td>\n",
       "      <td>30324</td>\n",
       "      <td>527900.0</td>\n",
       "      <td>517626.0</td>\n",
       "      <td>871.0</td>\n",
       "      <td>1872.0</td>\n",
       "      <td>3</td>\n",
       "      <td>4.0</td>\n",
       "      <td>2012.0</td>\n",
       "      <td>Condominium</td>\n",
       "    </tr>\n",
       "    <tr>\n",
       "      <th>4</th>\n",
       "      <td>229 Woodward Ave SE, Atlanta, GA</td>\n",
       "      <td>30312</td>\n",
       "      <td>487900.0</td>\n",
       "      <td>466183.0</td>\n",
       "      <td>2610.0</td>\n",
       "      <td>2040.0</td>\n",
       "      <td>4</td>\n",
       "      <td>3.0</td>\n",
       "      <td>2016.0</td>\n",
       "      <td>SingleFamily</td>\n",
       "    </tr>\n",
       "  </tbody>\n",
       "</table>\n",
       "</div>"
      ],
      "text/plain": [
       "                                           Address  Zip Code  Asking Price  \\\n",
       "0               3085 Eastbrook Ter SW, Atlanta, GA     30331      349900.0   \n",
       "1               5524 Stone Cove Dr SW, Atlanta, GA     30331      317000.0   \n",
       "2  45 Ivan Allen Jr Blvd NW UNIT 1901, Atlanta, GA     30308      545000.0   \n",
       "3                   3300 Ferncliff Ln, Atlanta, GA     30324      527900.0   \n",
       "4                 229 Woodward Ave SE, Atlanta, GA     30312      487900.0   \n",
       "\n",
       "   Zestimate  Lot Size (in acres)  Square Feet  Bedrooms  Bathrooms  \\\n",
       "0        NaN              10018.0       3636.0         6        4.0   \n",
       "1   312078.0              14374.0       5002.0         6        4.0   \n",
       "2   533631.0               1773.0       1774.0         2        3.0   \n",
       "3   517626.0                871.0       1872.0         3        4.0   \n",
       "4   466183.0               2610.0       2040.0         4        3.0   \n",
       "\n",
       "   Year Built     Home Type  \n",
       "0      2008.0  SingleFamily  \n",
       "1      2007.0  SingleFamily  \n",
       "2      2010.0   Condominium  \n",
       "3      2012.0   Condominium  \n",
       "4      2016.0  SingleFamily  "
      ]
     },
     "execution_count": 3,
     "metadata": {},
     "output_type": "execute_result"
    }
   ],
   "source": [
    "# Read excel file into dataframe\n",
    "HouseHuntersDF = pd.read_excel(\"HouseHuntersData.xlsx\")\n",
    "print(len(HouseHuntersDF['Address']))\n",
    "HouseHuntersDF.head()"
   ]
  },
  {
   "cell_type": "code",
   "execution_count": 4,
   "metadata": {},
   "outputs": [
    {
     "name": "stdin",
     "output_type": "stream",
     "text": [
      "What is your ideal price?  350000\n",
      "What is your ideal lot size?  0.5\n",
      "What is your ideal square footage?  2000\n",
      "What is your ideal number of bedrooms?  3\n",
      "What is your ideal number of bathrooms?  3\n",
      "What is your ideal build year?  2000\n",
      "What is your ideal home type?  SingleFamily\n"
     ]
    },
    {
     "name": "stdout",
     "output_type": "stream",
     "text": [
      "Home Price\n"
     ]
    },
    {
     "name": "stdin",
     "output_type": "stream",
     "text": [
      "Assign a number from 1-5, to indicate the importance of this category. (5 being most important, 1 being least) 1\n"
     ]
    },
    {
     "name": "stdout",
     "output_type": "stream",
     "text": [
      "Lot Size\n"
     ]
    },
    {
     "name": "stdin",
     "output_type": "stream",
     "text": [
      "Assign a number from 1-5, to indicate the importance of this category. (5 being most important, 1 being least) 2\n"
     ]
    },
    {
     "name": "stdout",
     "output_type": "stream",
     "text": [
      "Square Feet\n"
     ]
    },
    {
     "name": "stdin",
     "output_type": "stream",
     "text": [
      "Assign a number from 1-5, to indicate the importance of this category. (5 being most important, 1 being least) 3\n"
     ]
    },
    {
     "name": "stdout",
     "output_type": "stream",
     "text": [
      "Number of bedrooms\n"
     ]
    },
    {
     "name": "stdin",
     "output_type": "stream",
     "text": [
      "Assign a number from 1-5, to indicate the importance of this category. (5 being most important, 1 being least) 4\n"
     ]
    },
    {
     "name": "stdout",
     "output_type": "stream",
     "text": [
      "Number of bathrooms\n"
     ]
    },
    {
     "name": "stdin",
     "output_type": "stream",
     "text": [
      "Assign a number from 1-5, to indicate the importance of this category. (5 being most important, 1 being least) 5\n"
     ]
    }
   ],
   "source": [
    "# Get user prefernces\n",
    "home_price = input(\"What is your ideal price? \")\n",
    "home_lot_size = input(\"What is your ideal lot size? \")\n",
    "home_footage = input(\"What is your ideal square footage? \")\n",
    "home_beds = input(\"What is your ideal number of bedrooms? \")\n",
    "home_baths = input(\"What is your ideal number of bathrooms? \")\n",
    "home_year = input(\"What is your ideal build year? \")\n",
    "home_type = input(\"What is your ideal home type? \")\n",
    "\n",
    "# Convert these input values to integer type\n",
    "home_price = float(home_price)\n",
    "home_lot_size = float(home_lot_size)\n",
    "home_beds = int(home_beds)\n",
    "home_baths = int(home_baths)\n",
    "home_year = int(home_year)\n",
    "home_footage = int(home_footage)\n",
    "\n",
    "weights = list(np.arange(1,6,1))\n",
    "usedweights = []\n",
    "user_weights = []\n",
    "weightedvalues = [\"Home Price\",\"Lot Size\",\"Square Feet\",\"Number of bedrooms\",\"Number of bathrooms\"]\n",
    "\n",
    "for item in weightedvalues:\n",
    "    print(item)\n",
    "    weight = int(input('Assign a number from 1-5, to indicate the importance of this category. (5 being most important, 1 being least)'))\n",
    "    user_weights.append((weight * 2 / 10) + 1)"
   ]
  },
  {
   "cell_type": "code",
   "execution_count": 7,
   "metadata": {},
   "outputs": [
    {
     "name": "stdout",
     "output_type": "stream",
     "text": [
      "Number of houses dropped for null data: 104\n"
     ]
    },
    {
     "name": "stderr",
     "output_type": "stream",
     "text": [
      "/Users/amandafitzpatrick/anaconda3/lib/python3.7/site-packages/ipykernel_launcher.py:10: SettingWithCopyWarning: \n",
      "A value is trying to be set on a copy of a slice from a DataFrame.\n",
      "Try using .loc[row_indexer,col_indexer] = value instead\n",
      "\n",
      "See the caveats in the documentation: http://pandas.pydata.org/pandas-docs/stable/user_guide/indexing.html#returning-a-view-versus-a-copy\n",
      "  # Remove the CWD from sys.path while we load stuff.\n"
     ]
    }
   ],
   "source": [
    "#Create Data Frame for Price Input\n",
    "length_initial = len(HouseHuntersDF['Address'])\n",
    "HouseHuntersNADropDF = HouseHuntersDF.dropna(axis=0, how='any', thresh=None, subset=None, inplace=False)\n",
    "length_final = length_initial - len(HouseHuntersNADropDF['Address'])\n",
    "print(f'Number of houses dropped for null data: {length_final}')\n",
    "\n",
    "HouseHunters_Input_1 = HouseHuntersNADropDF[HouseHuntersNADropDF['Asking Price'].astype(int)<=home_price]\n",
    "\n",
    "#Create Data Frame for Home Lot Size Input Using Previous Input Data Frame\n",
    "HouseHunters_Input_1['Lot Size (in acres)'] = HouseHunters_Input_1['Lot Size (in acres)'].astype(float)*0.0000229568\n",
    "HouseHunters_Input_2 = HouseHunters_Input_1.loc[HouseHunters_Input_1['Lot Size (in acres)']>=home_lot_size]\n",
    "\n",
    "#Create Data Frame for Square Footage Input Using Previous Input Data Frame\n",
    "HouseHunters_Input_3 = HouseHunters_Input_2.loc[HouseHunters_Input_2['Square Feet'].astype(int)>=home_footage]\n",
    "\n",
    "#Create Data Frame for Bedrooms Input Using Previous Input Data Frame\n",
    "HouseHunters_Input_4 = HouseHunters_Input_3.loc[HouseHunters_Input_3['Bedrooms'].astype(int)>=home_beds]\n",
    "\n",
    "#Create Data Frame for Bathrooms Using Previous Input Data Frame\n",
    "HouseHunters_Input_5 = HouseHunters_Input_4.loc[HouseHunters_Input_4['Bathrooms'].astype(float)>=home_baths]\n",
    "\n",
    "#Create Data Frame for Home Year Input Using Previous Input Data Frame\n",
    "HouseHunters_Input_6 = HouseHunters_Input_5.loc[HouseHunters_Input_5['Year Built'].astype(int)>=home_year]\n",
    "\n",
    "#Create Data Frame for Home Type Input Using Previous Input Data Frame\n",
    "HouseHunters_Input_7 = HouseHunters_Input_6.loc[HouseHunters_Input_6['Home Type'].astype(str)>=home_type]\n",
    "HouseHunters_Input_7 = HouseHunters_Input_7.reset_index(drop=True)\n"
   ]
  },
  {
   "cell_type": "code",
   "execution_count": 10,
   "metadata": {},
   "outputs": [
    {
     "name": "stdout",
     "output_type": "stream",
     "text": [
      "                               Address  Zip Code  Asking Price  Zestimate  \\\n",
      "0       2500 Butner Rd SW, Atlanta, GA     30331       90000.0    88020.0   \n",
      "1  3275 Landings North Dr, Atlanta, GA     30331      282500.0   278706.0   \n",
      "\n",
      "   Lot Size (in acres)  Square Feet  Bedrooms  Bathrooms  Year Built  \\\n",
      "0             0.919994       3702.0         5        4.0      2010.0   \n",
      "1             0.505394       3536.0         5        3.0      2007.0   \n",
      "\n",
      "      Home Type  Scores  \n",
      "0  SingleFamily    80.0  \n",
      "1  SingleFamily    24.2  \n"
     ]
    },
    {
     "data": {
      "image/png": "[encoded data removed]",
      "text/plain": [
       "<Figure size 432x288 with 1 Axes>"
      ]
     },
     "metadata": {
      "needs_background": "light"
     },
     "output_type": "display_data"
    }
   ],
   "source": [
    "# Normalize the values within this dataframe\n",
    "HouseHunters_Input_8 = HouseHunters_Input_7\n",
    "scaledDF = pd.DataFrame()\n",
    "\n",
    "columnlist = ['Lot Size (in acres)', 'Square Feet', 'Bedrooms', 'Bathrooms']\n",
    "for column in columnlist:\n",
    "    \n",
    "    #Get Min and Max Values\n",
    "    Max = float(HouseHunters_Input_7[column].max())\n",
    "    Min = float(HouseHunters_Input_7[column].min())\n",
    "    for i in range(len(HouseHunters_Input_7[column])):\n",
    "        if float(HouseHunters_Input_7[column].iloc[i]) > Max:\n",
    "            Max = float(HouseHunters_Input_7[column].iloc[i])\n",
    "        elif float(HouseHunters_Input_7[column].iloc[i]) < Min:\n",
    "            Min = float(HouseHunters_Input_7[column].iloc[i])\n",
    "    \n",
    "    #Scale all values to 1-10\n",
    "    New_Values = []\n",
    "    for i in range(len(HouseHunters_Input_7[column])):\n",
    "        item = float(HouseHunters_Input_7[column].iloc[i])\n",
    "        if item == Max:\n",
    "            new_item = 10\n",
    "        elif item == Min:\n",
    "            new_item = 1\n",
    "        else:\n",
    "            new_item = 10 * (item - Min) / (Max - Min)\n",
    "        New_Values.append(new_item)\n",
    "    scaledDF[column] = New_Values\n",
    "\n",
    "# 'Asking Price' scaling\n",
    "column = 'Asking Price'\n",
    "Max = float(HouseHunters_Input_7[column].max())\n",
    "Min = float(HouseHunters_Input_7[column].min())\n",
    "for i in range(len(HouseHunters_Input_7[column])):\n",
    "    if float(HouseHunters_Input_7[column].iloc[i]) > Max:\n",
    "        Max = float(HouseHunters_Input_7[column].iloc[i])\n",
    "    elif float(HouseHunters_Input_7[column].iloc[i]) < Min:\n",
    "        Min = float(HouseHunters_Input_7[column].iloc[i])\n",
    "\n",
    "#Scale all values to 1-10\n",
    "New_Values = []\n",
    "for i in range(len(HouseHunters_Input_7[column])):\n",
    "    item = float(HouseHunters_Input_7[column].iloc[i])\n",
    "    if item == Max:\n",
    "        new_item = 1\n",
    "    elif item == Min:\n",
    "        new_item = 10\n",
    "    else:\n",
    "        new_item = 10 * (Max - item) / (Max - Min)\n",
    "    New_Values.append(new_item)\n",
    "scaledDF[column] = New_Values\n",
    "\n",
    "#Create a column scoring each home on its attributes\n",
    "scores = []\n",
    "for i in scaledDF.index:\n",
    "    score = (scaledDF['Asking Price'].iloc[i] * user_weights[0]) + (scaledDF['Lot Size (in acres)'].iloc[i] * user_weights[1]) + (scaledDF['Square Feet'].iloc[i] * user_weights[2]) + (scaledDF['Bedrooms'].iloc[i] * user_weights[3]) + (scaledDF['Bathrooms'].iloc[i] * user_weights[4])\n",
    "    scores.append(score)\n",
    "\n",
    "HouseHunters_Input_8['Scores'] = pd.Series(scores)\n",
    "HouseHunters_Input_9 = HouseHunters_Input_8.sort_values(by='Scores', ascending=False).reset_index(drop=True)\n",
    "\n",
    "# Print final dataframe\n",
    "if len(HouseHunters_Input_7['Address']) == 0:\n",
    "    print('There were no homes founding matching your criteria.\\nPlease broaden your search criteria or make mo money fool')\n",
    "else:\n",
    "    print(HouseHunters_Input_9)\n",
    "    bedrooms_both_df = pd.DataFrame({'Address':HouseHunters_Input_9['Address'], 'Bedrooms':HouseHunters_Input_9['Bedrooms'],'Bathrooms':HouseHunters_Input_9['Bathrooms']})\n",
    "    bedrooms_both_df\n",
    "\n",
    "    x_axis = np.arange(0,len(bedrooms_both_df['Address']))\n",
    "    ItemsToGraph = []\n",
    "    for i in bedrooms_both_df.index:\n",
    "        address = bedrooms_both_df['Address'].iloc[i]\n",
    "        ItemsToGraph.append(f'{address} Bedrooms')\n",
    "    for i in bedrooms_both_df.index:\n",
    "        address = bedrooms_both_df['Address'].iloc[i]\n",
    "        ItemsToGraph.append(f'{address} Bathrooms')\n",
    "\n",
    "    ValuesToGraph = []\n",
    "    colors = []\n",
    "    for i in bedrooms_both_df.index:\n",
    "        ValuesToGraph.append(bedrooms_both_df['Bedrooms'].iloc[i])\n",
    "    for i in bedrooms_both_df.index:\n",
    "        ValuesToGraph.append(bedrooms_both_df['Bathrooms'].iloc[i])\n",
    "\n",
    "    for i in bedrooms_both_df.index:\n",
    "        colors.append('r')\n",
    "        colors.append('b')\n",
    "\n",
    "    ValuesToGraph\n",
    "    ItemsToGraph\n",
    "    ValuesToGraph\n",
    "\n",
    "    plt.bar(ItemsToGraph, ValuesToGraph, color=colors)\n",
    "    tick_locations = [0.5,2.5]\n",
    "    plt.xticks(tick_locations, ['Bedrooms','Bathrooms'])\n",
    "    patches = []\n",
    "    for i in bedrooms_both_df.index:\n",
    "        patch = mpatches.Patch(color=colors[i], label=bedrooms_both_df['Address'].iloc[i])\n",
    "        patches.append(patch)\n",
    "    plt.legend(handles=patches, bbox_to_anchor=(1.0, 1.05))\n",
    "    plt.savefig(\"Bedroom_Bathroom_Breakdown.png\")\n",
    "    plt.title(\"Final Homes by Bedroom and Bathroom\")\n",
    "    plt.show()"
   ]
  },
  {
   "cell_type": "code",
   "execution_count": 189,
   "metadata": {},
   "outputs": [
    {
     "data": {
      "image/png": "[encoded data removed]",
      "text/plain": [
       "<Figure size 432x288 with 1 Axes>"
      ]
     },
     "metadata": {
      "needs_background": "light"
     },
     "output_type": "display_data"
    }
   ],
   "source": [
    "inputL = []\n",
    "\n",
    "Asking_Price = len(HouseHunters_Input_1)\n",
    "inputL.append(Asking_Price)\n",
    "                   \n",
    "Lot_Size = len(HouseHunters_Input_2)\n",
    "inputL.append(Lot_Size)\n",
    "               \n",
    "Square_Feet = len(HouseHunters_Input_3)\n",
    "inputL.append(Square_Feet)\n",
    "                  \n",
    "Bedrooms = len(HouseHunters_Input_4)\n",
    "inputL.append(Bedrooms)\n",
    "               \n",
    "Bathrooms = len(HouseHunters_Input_5)\n",
    "inputL.append(Bathrooms)\n",
    "\n",
    "Year_Built = len(HouseHunters_Input_6)\n",
    "inputL.append(Year_Built)\n",
    "\n",
    "Home_Type = len(HouseHunters_Input_9)\n",
    "inputL.append(Home_Type)\n",
    "\n",
    "plt.bar(x=np.arange(1,8,1), height=inputL, color=['orange', 'red', 'green', 'blue', 'cyan', 'purple', 'black'])\n",
    "\n",
    "orange_patch = mpatches.Patch(color='orange', label='Asking Price Filter')\n",
    "red_patch = mpatches.Patch(color='red', label='Square Feet Filter')\n",
    "green_patch = mpatches.Patch(color='green', label='Lot Size Filter')\n",
    "blue_patch = mpatches.Patch(color='blue', label='Bedrooms Filter')\n",
    "cyan_patch = mpatches.Patch(color='cyan', label='Bathrooms Filter')\n",
    "purple_patch = mpatches.Patch(color='purple', label='Year Built Filter')\n",
    "black_patch = mpatches.Patch(color='black', label='Home Type Filter')\n",
    "plt.legend(handles=[orange_patch,\n",
    "                    red_patch,\n",
    "                    green_patch,\n",
    "                    blue_patch,\n",
    "                    cyan_patch,\n",
    "                    purple_patch,\n",
    "                    black_patch])\n",
    "\n",
    "plt.ylabel('Number of Houses Returned (Per Filter)')\n",
    "plt.xlabel('User Inputs (Input 1 - Input 7)')\n",
    "plt.title('Data Frame Flow to Find Ideal Home')\n",
    "\n",
    "plt.savefig(\"Data Frame Flow to Find Ideal Home.png\")\n",
    "plt.show()"
   ]
  },
  {
   "cell_type": "code",
   "execution_count": 18,
   "metadata": {},
   "outputs": [
    {
     "data": {
      "image/png": "[encoded data removed]",
      "text/plain": [
       "<Figure size 432x288 with 1 Axes>"
      ]
     },
     "metadata": {},
     "output_type": "display_data"
    }
   ],
   "source": [
    "# Get counts for home type\n",
    "Count_SingleFamily = HouseHuntersNADropDF['Home Type'].loc[HouseHuntersNADropDF['Home Type']=='SingleFamily'].count()\n",
    "Count_Condominium = HouseHuntersNADropDF['Home Type'].loc[HouseHuntersNADropDF['Home Type']=='Condominium'].count()\n",
    "Count_Townhouse = HouseHuntersNADropDF['Home Type'].loc[HouseHuntersNADropDF['Home Type']=='Townhouse'].count()\n",
    "Count_MultiFamily2To4 = HouseHuntersNADropDF['Home Type'].loc[HouseHuntersNADropDF['Home Type']=='MultiFamily2To4'].count()\n",
    "Count_VacantResidentialLand = HouseHuntersNADropDF['Home Type'].loc[HouseHuntersNADropDF['Home Type']=='VacantResidentialLand'].count()\n",
    "\n",
    "# Labels for the sections of our pie chart\n",
    "labels = [\"SingleFamily\", \"Condominium\", \"Townhouse\", \"MultiFamily2To4\",\"VacantResidentialLand\"]\n",
    "\n",
    "# The values of each section of the pie chart\n",
    "sizes = [Count_SingleFamily, Count_Condominium, Count_Townhouse, Count_MultiFamily2To4, Count_VacantResidentialLand]\n",
    "\n",
    "# The colors of each section of the pie chart\n",
    "colors = [\"red\", \"orange\", \"lightcoral\", \"lightskyblue\",\"green\"]\n",
    "\n",
    "# Tells matplotlib to seperate the \"Python\" section from the others\n",
    "explode = (0, 0.3, 0.2, 1.8, 3.5)\n",
    "\n",
    "fig1, ax1 = plt.subplots()\n",
    "plt.pie(sizes, explode=explode, labels=labels, colors=colors,\n",
    "        autopct=\"%1.1f%%\", shadow=True, startangle=140)\n",
    "\n",
    "ax1.axis('equal')\n",
    "plt.title(\"Home Type by Percent\")\n",
    "plt.tight_layout()\n",
    "plt.savefig(\"Percent Breakdown By Home Type.png\")\n",
    "plt.show()"
   ]
  },
  {
   "cell_type": "code",
   "execution_count": null,
   "metadata": {},
   "outputs": [],
   "source": []
  }
 ],
 "metadata": {
  "kernelspec": {
   "display_name": "Python 3",
   "language": "python",
   "name": "python3"
  },
  "language_info": {
   "codemirror_mode": {
    "name": "ipython",
    "version": 3
   },
   "file_extension": ".py",
   "mimetype": "text/x-python",
   "name": "python",
   "nbconvert_exporter": "python",
   "pygments_lexer": "ipython3",
   "version": "3.7.3"
  }
 },
 "nbformat": 4,
 "nbformat_minor": 4
}
